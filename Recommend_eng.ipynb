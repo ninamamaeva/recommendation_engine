{
 "cells": [
  {
   "cell_type": "code",
   "execution_count": 7,
   "metadata": {},
   "outputs": [
    {
     "name": "stderr",
     "output_type": "stream",
     "text": [
      "/Users/nina/opt/anaconda3/envs/tflow2/lib/python3.10/site-packages/fuzzywuzzy/fuzz.py:11: UserWarning: Using slow pure-python SequenceMatcher. Install python-Levenshtein to remove this warning\n",
      "  warnings.warn('Using slow pure-python SequenceMatcher. Install python-Levenshtein to remove this warning')\n"
     ]
    }
   ],
   "source": [
    "import json\n",
    "import pandas as pd\n",
    "import numpy as np\n",
    "import matplotlib.pyplot as plt\n",
    "import seaborn as sns\n",
    "from scipy import sparse\n",
    "import textwrap\n",
    "\n",
    "from fuzzywuzzy import process\n",
    "import pickle\n",
    "\n",
    "from sklearn.metrics.pairwise import pairwise_distances, cosine_similarity, cosine_distances\n",
    "from sklearn.neighbors import NearestNeighbors"
   ]
  },
  {
   "cell_type": "markdown",
   "id": "1137d0c7",
   "metadata": {},
   "source": [
    "#### REVIEWS and RATINGS"
   ]
  },
  {
   "cell_type": "code",
   "execution_count": 33,
   "metadata": {},
   "outputs": [],
   "source": [
    "# Read reviews dfs:\n",
    "children_rev = pd.read_json('./Dataset/goodreads_reviews_children.json', lines=True)\n",
    "children_rev.drop(columns=['date_added', 'date_updated', 'read_at', 'started_at', 'n_votes', 'n_comments'], inplace=True)\n",
    "children_rev.to_csv(path_or_buf='./Dataset/children_rev.csv', index = False)\n",
    "\n",
    "comics_rev = pd.read_json('./Dataset/goodreads_reviews_comics_graphic.json', lines=True)\n",
    "comics_rev.drop(columns=['date_added', 'date_updated', 'read_at', 'started_at', 'n_votes', 'n_comments'], inplace=True)\n",
    "comics_rev.to_csv(path_or_buf='./Dataset/comics_rev.csv', index = False)\n",
    "\n",
    "history_rev = pd.read_json('./Dataset/goodreads_reviews_history_biography.json', lines=True)\n",
    "history_rev.drop(columns=['date_added', 'date_updated', 'read_at', 'started_at', 'n_votes', 'n_comments'], inplace=True)\n",
    "history_rev.to_csv(path_or_buf='./Dataset/history_rev.csv', index = False)\n",
    "\n",
    "mystery_rev = pd.read_json('./Dataset/goodreads_reviews_mystery_thriller_crime.json', lines=True)\n",
    "mystery_rev.drop(columns=['date_added', 'date_updated', 'read_at', 'started_at', 'n_votes', 'n_comments'], inplace=True)\n",
    "mystery_rev.to_csv(path_or_buf='./Dataset/mystery_rev.csv', index = False)\n",
    "\n",
    "poetry_rev = pd.read_json('./Dataset/goodreads_reviews_poetry.json', lines=True)\n",
    "poetry_rev.drop(columns=['date_added', 'date_updated', 'read_at', 'started_at', 'n_votes', 'n_comments'], inplace=True)\n",
    "poetry_rev.to_csv(path_or_buf='./Dataset/poetry_rev.csv', index = False)\n",
    "\n",
    "adult_rev = pd.read_json('./Dataset/goodreads_reviews_young_adult.json', lines=True)\n",
    "adult_rev.drop(columns=['date_added', 'date_updated', 'read_at', 'started_at', 'n_votes', 'n_comments'], inplace=True)\n",
    "adult_rev.to_csv(path_or_buf='./Dataset/adult_rev.csv', index = False)"
   ]
  },
  {
   "cell_type": "code",
   "execution_count": 20,
   "metadata": {},
   "outputs": [],
   "source": [
    "# read individual genre dfs:\n",
    "df_children = pd.read_csv('./Dataset/children.csv')\n",
    "df_comics = pd.read_csv('./Dataset/comics.csv')\n",
    "df_history = pd.read_csv('./Dataset/history.csv')\n",
    "df_mystery = pd.read_csv('./Dataset/mystery.csv')\n",
    "df_poetry = pd.read_csv('./Dataset/poetry.csv')\n",
    "df_adult = pd.read_csv('./Dataset/young_adult.csv')"
   ]
  },
  {
   "cell_type": "code",
   "execution_count": 21,
   "metadata": {},
   "outputs": [],
   "source": [
    "# Create the pivot table and sparse matrix for each genre df: \n",
    "\n",
    "children_reviews = children_rev.pivot_table(index='book_id', values='rating').fillna(0)\n",
    "mat_children_reviews = sparse.csr_matrix(children_reviews.values)\n",
    "\n",
    "comics_reviews = comics_rev.pivot_table(index='book_id', values='rating').fillna(0)\n",
    "mat_comics_reviews = sparse.csr_matrix(comics_reviews.values)\n",
    "\n",
    "history_reviews = history_rev.pivot_table(index='book_id', values='rating').fillna(0)\n",
    "mat_history_reviews = sparse.csr_matrix(history_reviews.values)\n",
    "\n",
    "mystery_reviews = mystery_rev.pivot_table(index='book_id', values='rating').fillna(0)\n",
    "mat_mystery_reviews = sparse.csr_matrix(mystery_reviews.values)\n",
    "\n",
    "poetry_reviews = poetry_rev.pivot_table(index='book_id', values='rating').fillna(0)\n",
    "mat_poetry_reviews = sparse.csr_matrix(poetry_reviews.values)\n",
    "\n",
    "adult_reviews = adult_rev.pivot_table(index='book_id', values='rating').fillna(0)\n",
    "mat_adult_reviews = sparse.csr_matrix(adult_reviews.values)"
   ]
  },
  {
   "cell_type": "code",
   "execution_count": 30,
   "metadata": {},
   "outputs": [],
   "source": [
    "def get_knn(book_title, data, review_data):\n",
    "    model = NearestNeighbors(algorithm='brute', n_neighbors = 40)\n",
    "    model.fit(review_data)\n",
    "\n",
    "    knnPickle = open('./Dataset/'+data['genre'].iloc[0]+'_knn_model.pkl', 'wb') \n",
    "    pickle.dump(model, knnPickle)  \n",
    "    knnPickle.close()\n",
    "\n",
    "    book_idx = process.extractOne(book_title, data['title'])[2]\n",
    "    print('Selected book: ', data['title'][book_idx])\n",
    "    \n",
    "    matched_books = []\n",
    "    indices = model.kneighbors(review_data[book_idx], n_neighbors = 10)[1]\n",
    "\n",
    "    for i in indices[0]:\n",
    "        if i != book_idx:  \n",
    "            matched_books.append({\n",
    "                'book_id': data['book_id'][i],\n",
    "                'title': data['title'][i],\n",
    "                'author': data['author_name'][i]\n",
    "            })\n",
    "        \n",
    "    matches_df = pd.DataFrame(matched_books)\n",
    "    return matches_df"
   ]
  },
  {
   "cell_type": "code",
   "execution_count": 32,
   "metadata": {},
   "outputs": [
    {
     "name": "stdout",
     "output_type": "stream",
     "text": [
      "Selected book:  Etruscans: Beloved of the Gods\n",
      "Selected book:  Rest In Pizza (Pizza Lovers, #4)\n",
      "Selected book:  Love\n",
      "Selected book:  Love\n",
      "Selected book:  Love Letters to the Dead\n",
      "Selected book:  Love Stage!!, Vol. 3\n"
     ]
    }
   ],
   "source": [
    "# testing and generating models for each genre:\n",
    "recs = get_knn('love', df_history, mat_history_reviews) \n",
    "recs = get_knn('love', df_mystery, mat_mystery_reviews)\n",
    "recs = get_knn('love', df_children, mat_children_reviews) \n",
    "recs = get_knn('love', df_poetry, mat_poetry_reviews)\n",
    "recs = get_knn('love', df_adult, mat_adult_reviews)\n",
    "recs = get_knn('love', df_comics, mat_comics_reviews)\n"
   ]
  },
  {
   "cell_type": "code",
   "execution_count": null,
   "metadata": {},
   "outputs": [],
   "source": []
  }
 ],
 "metadata": {
  "kernelspec": {
   "display_name": "Python 3.10.6 ('tflow2')",
   "language": "python",
   "name": "python3"
  },
  "language_info": {
   "codemirror_mode": {
    "name": "ipython",
    "version": 3
   },
   "file_extension": ".py",
   "mimetype": "text/x-python",
   "name": "python",
   "nbconvert_exporter": "python",
   "pygments_lexer": "ipython3",
   "version": "3.10.6"
  },
  "orig_nbformat": 4,
  "vscode": {
   "interpreter": {
    "hash": "3277ecac41a0fe3dd2d25ade24625141cdaf57113ad65a657952deca071c028c"
   }
  }
 },
 "nbformat": 4,
 "nbformat_minor": 2
}
