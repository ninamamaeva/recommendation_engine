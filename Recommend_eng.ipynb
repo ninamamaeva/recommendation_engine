{
 "cells": [
  {
   "cell_type": "code",
   "execution_count": 1,
   "metadata": {},
   "outputs": [
    {
     "name": "stderr",
     "output_type": "stream",
     "text": [
      "/Users/nina/opt/anaconda3/envs/tflow2/lib/python3.10/site-packages/fuzzywuzzy/fuzz.py:11: UserWarning: Using slow pure-python SequenceMatcher. Install python-Levenshtein to remove this warning\n",
      "  warnings.warn('Using slow pure-python SequenceMatcher. Install python-Levenshtein to remove this warning')\n"
     ]
    }
   ],
   "source": [
    "import json\n",
    "import pandas as pd\n",
    "import numpy as np\n",
    "import matplotlib.pyplot as plt\n",
    "import seaborn as sns\n",
    "from scipy import sparse\n",
    "import textwrap\n",
    "\n",
    "from fuzzywuzzy import process\n",
    "import pickle\n",
    "\n",
    "from sklearn.metrics.pairwise import pairwise_distances, cosine_similarity, cosine_distances\n",
    "from sklearn.neighbors import NearestNeighbors"
   ]
  },
  {
   "cell_type": "markdown",
   "id": "1137d0c7",
   "metadata": {},
   "source": [
    "#### REVIEWS and RATINGS"
   ]
  },
  {
   "cell_type": "code",
   "execution_count": 2,
   "metadata": {},
   "outputs": [],
   "source": [
    "# Read reviews dfs:\n",
    "children_rev = pd.read_csv('./Dataset/children_rev.csv')\n",
    "comics_rev = pd.read_csv('./Dataset/comics_rev.csv')\n",
    "history_rev = pd.read_csv('./Dataset/history_rev.csv')\n",
    "mystery_rev = pd.read_csv('./Dataset/mystery_rev.csv')\n",
    "poetry_rev = pd.read_csv('./Dataset/poetry_rev.csv')\n",
    "adult_rev = pd.read_csv('./Dataset/adult_rev.csv')\n",
    "fantasy_rev = pd.read_csv('./Dataset/fantasy_rev.csv')\n",
    "romance_rev = pd.read_csv('./Dataset/romance_rev.csv')"
   ]
  },
  {
   "cell_type": "code",
   "execution_count": 3,
   "metadata": {},
   "outputs": [],
   "source": [
    "# read individual genre dfs:\n",
    "df_children = pd.read_csv('./Dataset/children.csv')\n",
    "df_comics = pd.read_csv('./Dataset/comics.csv')\n",
    "df_history = pd.read_csv('./Dataset/history.csv')\n",
    "df_mystery = pd.read_csv('./Dataset/mystery.csv')\n",
    "df_poetry = pd.read_csv('./Dataset/poetry.csv')\n",
    "df_adult = pd.read_csv('./Dataset/young_adult.csv')\n",
    "df_fantasy = pd.read_csv('./Dataset/fantasy.csv')\n",
    "df_romance = pd.read_csv('./Dataset/romance.csv')"
   ]
  },
  {
   "cell_type": "markdown",
   "metadata": {},
   "source": [
    "Due memory limitations, the review dataframes have to be cut:"
   ]
  },
  {
   "cell_type": "code",
   "execution_count": 4,
   "metadata": {},
   "outputs": [],
   "source": [
    "children_rev = children_rev.sort_values(by = ['book_id', 'rating'], ascending = False)\n",
    "children_rev = children_rev.drop_duplicates(subset=['book_id'])\n",
    "\n",
    "comics_rev = comics_rev.sort_values(by = ['book_id', 'rating'], ascending = False)\n",
    "comics_rev = comics_rev.drop_duplicates(subset=['book_id'])\n",
    "\n",
    "history_rev = history_rev.sort_values(by = ['book_id', 'rating'], ascending = False)\n",
    "history_rev = history_rev.drop_duplicates(subset=['book_id']).head(100000)\n",
    "\n",
    "mystery_rev = mystery_rev.sort_values(by = ['book_id', 'rating'], ascending = False)\n",
    "mystery_rev = mystery_rev.drop_duplicates(subset=['book_id']).head(100000)\n",
    "\n",
    "adult_rev = adult_rev.sort_values(by = ['book_id', 'rating'], ascending = False)\n",
    "adult_rev = adult_rev.drop_duplicates(subset=['book_id'])\n",
    "\n",
    "poetry_rev = poetry_rev.sort_values(by = ['book_id', 'rating'], ascending = False)\n",
    "poetry_rev = poetry_rev.drop_duplicates(subset=['book_id'])\n",
    "\n",
    "fantasy_rev = fantasy_rev.sort_values(by = ['book_id', 'rating'], ascending = False)\n",
    "fantasy_rev = fantasy_rev.drop_duplicates(subset=['book_id']).head(100000)\n",
    "\n",
    "romance_rev = romance_rev.sort_values(by = ['book_id', 'rating'], ascending = False)\n",
    "romance_rev = romance_rev.drop_duplicates(subset=['book_id']).head(100000)"
   ]
  },
  {
   "cell_type": "markdown",
   "metadata": {},
   "source": [
    "Save the smaller versions of the review data for the app to load faster:"
   ]
  },
  {
   "cell_type": "code",
   "execution_count": 5,
   "metadata": {},
   "outputs": [],
   "source": [
    "children_rev.to_csv(path_or_buf='./Dataset/children_rev.csv', index = False)\n",
    "comics_rev.to_csv(path_or_buf='./Dataset/comics_rev.csv', index = False)\n",
    "history_rev.to_csv(path_or_buf='./Dataset/history_rev.csv', index = False)\n",
    "mystery_rev.to_csv(path_or_buf='./Dataset/mystery_rev.csv', index = False)\n",
    "adult_rev.to_csv(path_or_buf='./Dataset/adult_rev.csv', index = False)\n",
    "poetry_rev.to_csv(path_or_buf='./Dataset/poetry_rev.csv', index = False)\n",
    "fantasy_rev.to_csv(path_or_buf='./Dataset/fantasy_rev.csv', index = False)\n",
    "romance_rev.to_csv(path_or_buf='./Dataset/romance_rev.csv', index = False)"
   ]
  },
  {
   "cell_type": "markdown",
   "metadata": {},
   "source": [
    "---"
   ]
  },
  {
   "cell_type": "markdown",
   "metadata": {},
   "source": [
    "Train the model and generate the recommendations:"
   ]
  },
  {
   "cell_type": "code",
   "execution_count": 6,
   "metadata": {},
   "outputs": [],
   "source": [
    "def get_knn(book_title, data, review_data):\n",
    "    model = NearestNeighbors(metric = 'cosine', algorithm='brute', n_neighbors = 10)\n",
    "    model.fit(review_data)\n",
    "\n",
    "    knnPickle = open('./Dataset/'+data['genre'].iloc[0]+'_knn_model.pkl', 'wb') \n",
    "    pickle.dump(model, knnPickle)  \n",
    "    knnPickle.close()\n",
    "    # Generate suggestions\n",
    "    book_idx = process.extractOne(book_title, data['title'])[2] # Extract the book that is the closest to the one requested\n",
    "    print('Selected book: ', data['title'][book_idx])\n",
    "    \n",
    "    matched_books = [] \n",
    "    indices = model.kneighbors(review_data[book_idx], n_neighbors = 10)[1]\n",
    "\n",
    "    for i in indices[0]: \n",
    "        if i != book_idx:  \n",
    "            matched_books.append({\n",
    "                'book_id': data['book_id'][i],\n",
    "                'title': data['title'][i],\n",
    "                'author': data['author_name'][i]\n",
    "            })\n",
    "        \n",
    "    matches_df = pd.DataFrame(matched_books)\n",
    "    return matches_df"
   ]
  },
  {
   "cell_type": "markdown",
   "metadata": {},
   "source": [
    "Call the function one by one for each genre to load the models for the app: "
   ]
  },
  {
   "cell_type": "code",
   "execution_count": 7,
   "metadata": {},
   "outputs": [
    {
     "name": "stderr",
     "output_type": "stream",
     "text": [
      "/var/folders/5h/l2b3kn4j69bgsb2rqd8vqlw00000gn/T/ipykernel_19308/2744192679.py:1: PerformanceWarning: The following operation may generate 3424504034 cells in the resulting pandas object.\n",
      "  children_reviews = children_rev.pivot_table(index='book_id', values='rating', columns = 'user_id')\n"
     ]
    }
   ],
   "source": [
    "children_reviews = children_rev.pivot_table(index='book_id', values='rating', columns = 'user_id')\n",
    "mat_children_reviews = sparse.csr_matrix(children_reviews.fillna(0).values)"
   ]
  },
  {
   "cell_type": "code",
   "execution_count": 8,
   "metadata": {},
   "outputs": [
    {
     "name": "stdout",
     "output_type": "stream",
     "text": [
      "Selected book:  Love\n"
     ]
    }
   ],
   "source": [
    "recs = get_knn('love', df_children, mat_children_reviews) "
   ]
  },
  {
   "cell_type": "code",
   "execution_count": 9,
   "metadata": {},
   "outputs": [],
   "source": [
    "comics_reviews = comics_rev.pivot_table(index='book_id', values='rating', columns = 'user_id').fillna(0)\n",
    "mat_comics_reviews = sparse.csr_matrix(comics_reviews.values)"
   ]
  },
  {
   "cell_type": "code",
   "execution_count": 10,
   "metadata": {},
   "outputs": [
    {
     "name": "stdout",
     "output_type": "stream",
     "text": [
      "Selected book:  Love Stage!!, Vol. 3\n"
     ]
    }
   ],
   "source": [
    "recs = get_knn('love', df_comics, mat_comics_reviews)"
   ]
  },
  {
   "cell_type": "code",
   "execution_count": 11,
   "metadata": {},
   "outputs": [
    {
     "name": "stderr",
     "output_type": "stream",
     "text": [
      "/var/folders/5h/l2b3kn4j69bgsb2rqd8vqlw00000gn/T/ipykernel_19308/2481137292.py:1: PerformanceWarning: The following operation may generate 3629700000 cells in the resulting pandas object.\n",
      "  history_reviews = history_rev.pivot_table(index='book_id', values='rating', columns = 'user_id').fillna(0)\n"
     ]
    }
   ],
   "source": [
    "history_reviews = history_rev.pivot_table(index='book_id', values='rating', columns = 'user_id').fillna(0)\n",
    "mat_history_reviews = sparse.csr_matrix(history_reviews.values)"
   ]
  },
  {
   "cell_type": "code",
   "execution_count": 12,
   "metadata": {},
   "outputs": [
    {
     "name": "stdout",
     "output_type": "stream",
     "text": [
      "Selected book:  Etruscans: Beloved of the Gods\n"
     ]
    }
   ],
   "source": [
    "recs = get_knn('love', df_history, mat_history_reviews) "
   ]
  },
  {
   "cell_type": "code",
   "execution_count": 13,
   "metadata": {},
   "outputs": [
    {
     "name": "stderr",
     "output_type": "stream",
     "text": [
      "/var/folders/5h/l2b3kn4j69bgsb2rqd8vqlw00000gn/T/ipykernel_19308/1113266431.py:1: PerformanceWarning: The following operation may generate 2972300000 cells in the resulting pandas object.\n",
      "  mystery_reviews = mystery_rev.pivot_table(index='book_id', values='rating', columns = 'user_id').fillna(0)\n"
     ]
    }
   ],
   "source": [
    "mystery_reviews = mystery_rev.pivot_table(index='book_id', values='rating', columns = 'user_id').fillna(0)\n",
    "mat_mystery_reviews = sparse.csr_matrix(mystery_reviews.values)"
   ]
  },
  {
   "cell_type": "code",
   "execution_count": 14,
   "metadata": {},
   "outputs": [
    {
     "name": "stdout",
     "output_type": "stream",
     "text": [
      "Selected book:  Rest In Pizza (Pizza Lovers, #4)\n"
     ]
    }
   ],
   "source": [
    "recs = get_knn('love', df_mystery, mat_mystery_reviews)"
   ]
  },
  {
   "cell_type": "code",
   "execution_count": 15,
   "metadata": {},
   "outputs": [],
   "source": [
    "poetry_reviews = poetry_rev.pivot_table(index='book_id', values='rating', columns = 'user_id').fillna(0)\n",
    "mat_poetry_reviews = sparse.csr_matrix(poetry_reviews.values)"
   ]
  },
  {
   "cell_type": "code",
   "execution_count": 16,
   "metadata": {},
   "outputs": [
    {
     "name": "stdout",
     "output_type": "stream",
     "text": [
      "Selected book:  Love\n"
     ]
    }
   ],
   "source": [
    "recs = get_knn('love', df_poetry, mat_poetry_reviews)"
   ]
  },
  {
   "cell_type": "code",
   "execution_count": 17,
   "metadata": {},
   "outputs": [
    {
     "name": "stderr",
     "output_type": "stream",
     "text": [
      "/var/folders/5h/l2b3kn4j69bgsb2rqd8vqlw00000gn/T/ipykernel_19308/4219547930.py:1: PerformanceWarning: The following operation may generate 3080609010 cells in the resulting pandas object.\n",
      "  adult_reviews = adult_rev.pivot_table(index='book_id', values='rating', columns = 'user_id').fillna(0)\n"
     ]
    },
    {
     "ename": "",
     "evalue": "",
     "output_type": "error",
     "traceback": [
      "\u001b[1;31mThe Kernel crashed while executing code in the the current cell or a previous cell. Please review the code in the cell(s) to identify a possible cause of the failure. Click <a href='https://aka.ms/vscodeJupyterKernelCrash'>here</a> for more info. View Jupyter <a href='command:jupyter.viewOutput'>log</a> for further details."
     ]
    },
    {
     "ename": "",
     "evalue": "",
     "output_type": "error",
     "traceback": [
      "\u001b[1;31mCanceled future for execute_request message before replies were done"
     ]
    }
   ],
   "source": [
    "adult_reviews = adult_rev.pivot_table(index='book_id', values='rating', columns = 'user_id').fillna(0)\n",
    "mat_adult_reviews = sparse.csr_matrix(adult_reviews.values)"
   ]
  },
  {
   "cell_type": "code",
   "execution_count": 49,
   "metadata": {},
   "outputs": [
    {
     "name": "stdout",
     "output_type": "stream",
     "text": [
      "Selected book:  Love Letters to the Dead\n"
     ]
    }
   ],
   "source": [
    "recs = get_knn('love', df_adult, mat_adult_reviews)"
   ]
  },
  {
   "cell_type": "code",
   "execution_count": 50,
   "metadata": {},
   "outputs": [
    {
     "name": "stderr",
     "output_type": "stream",
     "text": [
      "/var/folders/5h/l2b3kn4j69bgsb2rqd8vqlw00000gn/T/ipykernel_18426/1683442699.py:1: PerformanceWarning: The following operation may generate 2919100000 cells in the resulting pandas object.\n",
      "  fantasy_reviews = fantasy_rev.pivot_table(index='book_id', values='rating', columns = 'user_id').fillna(0)\n"
     ]
    }
   ],
   "source": [
    "fantasy_reviews = fantasy_rev.pivot_table(index='book_id', values='rating', columns = 'user_id').fillna(0)\n",
    "mat_fantasy_reviews = sparse.csr_matrix(fantasy_reviews.values)"
   ]
  },
  {
   "cell_type": "code",
   "execution_count": 51,
   "metadata": {},
   "outputs": [
    {
     "name": "stdout",
     "output_type": "stream",
     "text": [
      "Selected book:  Etruscans: Beloved of the Gods\n"
     ]
    }
   ],
   "source": [
    "recs = get_knn('love', df_fantasy, mat_fantasy_reviews)"
   ]
  },
  {
   "cell_type": "code",
   "execution_count": 52,
   "metadata": {},
   "outputs": [],
   "source": [
    "romance_reviews = romance_rev.pivot_table(index='book_id', values='rating', columns = 'user_id').fillna(0)\n",
    "mat_romance_reviews = sparse.csr_matrix(romance_reviews.values)"
   ]
  },
  {
   "cell_type": "code",
   "execution_count": 53,
   "metadata": {},
   "outputs": [
    {
     "name": "stdout",
     "output_type": "stream",
     "text": [
      "Selected book:  Love\n"
     ]
    },
    {
     "ename": "",
     "evalue": "",
     "output_type": "error",
     "traceback": [
      "\u001b[1;31mThe Kernel crashed while executing code in the the current cell or a previous cell. Please review the code in the cell(s) to identify a possible cause of the failure. Click <a href='https://aka.ms/vscodeJupyterKernelCrash'>here</a> for more info. View Jupyter <a href='command:jupyter.viewOutput'>log</a> for further details."
     ]
    }
   ],
   "source": [
    "recs = get_knn('love', df_romance, mat_romance_reviews) "
   ]
  },
  {
   "cell_type": "code",
   "execution_count": null,
   "metadata": {},
   "outputs": [],
   "source": []
  }
 ],
 "metadata": {
  "kernelspec": {
   "display_name": "Python 3.10.6 ('tflow2')",
   "language": "python",
   "name": "python3"
  },
  "language_info": {
   "codemirror_mode": {
    "name": "ipython",
    "version": 3
   },
   "file_extension": ".py",
   "mimetype": "text/x-python",
   "name": "python",
   "nbconvert_exporter": "python",
   "pygments_lexer": "ipython3",
   "version": "3.10.6"
  },
  "orig_nbformat": 4,
  "vscode": {
   "interpreter": {
    "hash": "3277ecac41a0fe3dd2d25ade24625141cdaf57113ad65a657952deca071c028c"
   }
  }
 },
 "nbformat": 4,
 "nbformat_minor": 2
}
